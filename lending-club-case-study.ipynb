{
 "cells": [
  {
   "cell_type": "code",
   "execution_count": 1,
   "id": "874516fc",
   "metadata": {},
   "outputs": [],
   "source": [
    "import numpy as np\n",
    "import pandas as pd\n",
    "import matplotlib.pyplot as plt\n",
    "import seaborn as sns\n",
    "import math \n"
   ]
  },
  {
   "cell_type": "code",
   "execution_count": 2,
   "id": "4c1ad90b",
   "metadata": {},
   "outputs": [
    {
     "name": "stderr",
     "output_type": "stream",
     "text": [
      "C:\\Users\\GBhardwaj02\\Anaconda3\\envs\\myenv\\lib\\site-packages\\IPython\\core\\interactiveshell.py:3166: DtypeWarning: Columns (47) have mixed types. Specify dtype option on import or set low_memory=False.\n",
      "  interactivity=interactivity, compiler=compiler, result=result)\n"
     ]
    },
    {
     "data": {
      "text/plain": [
       "(39717, 111)"
      ]
     },
     "execution_count": 2,
     "metadata": {},
     "output_type": "execute_result"
    }
   ],
   "source": [
    "df = pd.read_csv('C:/Users/GBhardwaj02/Downloads/Upgrad/case study/loan/loan.csv')\n",
    "df.shape"
   ]
  },
  {
   "cell_type": "markdown",
   "id": "60d56c76",
   "metadata": {},
   "source": [
    "### Calculate number of missing values in each column"
   ]
  },
  {
   "cell_type": "code",
   "execution_count": 3,
   "id": "6aa0591e",
   "metadata": {},
   "outputs": [],
   "source": [
    "dictionary = {}\n",
    "\n",
    "for column in df:\n",
    "    dictionary[column] = df[column].isna().sum()\n"
   ]
  },
  {
   "cell_type": "markdown",
   "id": "d604b517",
   "metadata": {},
   "source": [
    "### There are many columns which doesnt have any relevant values i.e. where na count > 32000 (~80% of 39717). Deleting these columns from the Dataframe"
   ]
  },
  {
   "cell_type": "code",
   "execution_count": 4,
   "id": "b637af35",
   "metadata": {},
   "outputs": [],
   "source": [
    "for key, val in dictionary.items():\n",
    "    if(val > 32000):\n",
    "        del df[key]\n"
   ]
  },
  {
   "cell_type": "code",
   "execution_count": 5,
   "id": "c3d6fa4e",
   "metadata": {},
   "outputs": [
    {
     "data": {
      "text/plain": [
       "(39717, 55)"
      ]
     },
     "execution_count": 5,
     "metadata": {},
     "output_type": "execute_result"
    }
   ],
   "source": [
    "df.shape"
   ]
  },
  {
   "cell_type": "markdown",
   "id": "91e59a7c",
   "metadata": {},
   "source": [
    "### Now, since the dataframe has now less columns, save it as a new csv file to analyze the columns manually "
   ]
  },
  {
   "cell_type": "code",
   "execution_count": 6,
   "id": "0f82a7f7",
   "metadata": {},
   "outputs": [],
   "source": [
    "df.to_csv('C:/Users/GBhardwaj02/Downloads/Upgrad/case study/loan/loan1.csv')"
   ]
  },
  {
   "cell_type": "markdown",
   "id": "e1b4e655",
   "metadata": {},
   "source": [
    "It seems that there are various columns which has just single value. We need to delete the columns where there is a single value in all the columns as it doesnt adds any value to the analysis."
   ]
  },
  {
   "cell_type": "code",
   "execution_count": 7,
   "id": "11c946f3",
   "metadata": {},
   "outputs": [],
   "source": [
    "for column in df:\n",
    "    if len((df[column].value_counts())) == 1:\n",
    "                del df[column]"
   ]
  },
  {
   "cell_type": "code",
   "execution_count": 8,
   "id": "07b51330",
   "metadata": {},
   "outputs": [
    {
     "data": {
      "text/plain": [
       "(39717, 46)"
      ]
     },
     "execution_count": 8,
     "metadata": {},
     "output_type": "execute_result"
    }
   ],
   "source": [
    "df.shape"
   ]
  },
  {
   "cell_type": "markdown",
   "id": "8a2f63dc",
   "metadata": {},
   "source": [
    "### There are many columns which are Customer behavior variables which have relevancy post Loan approval. These variables will add no value to our analyses so can be safely deleted"
   ]
  },
  {
   "cell_type": "code",
   "execution_count": 9,
   "id": "4b5dc703",
   "metadata": {},
   "outputs": [],
   "source": [
    "cust_behavior = [\"delinq_2yrs\",\n",
    "  \"earliest_cr_line\",\n",
    "  \"inq_last_6mths\",\n",
    "  \"open_acc\",\n",
    "  \"pub_rec\",\n",
    "  \"revol_bal\",\n",
    "  \"revol_util\",\n",
    "  \"total_acc\",\n",
    "  \"out_prncp\",\n",
    "  \"out_prncp_inv\",\n",
    "  \"total_pymnt\",\n",
    "  \"total_pymnt_inv\",\n",
    "  \"total_rec_prncp\",\n",
    "  \"total_rec_int\",\n",
    "  \"total_rec_late_fee\",\n",
    "  \"recoveries\",\n",
    "  \"collection_recovery_fee\",\n",
    "  \"last_pymnt_d\",\n",
    "  \"last_pymnt_amnt\",\n",
    "  \"last_credit_pull_d\"]"
   ]
  },
  {
   "cell_type": "code",
   "execution_count": 10,
   "id": "be8215ae",
   "metadata": {},
   "outputs": [],
   "source": [
    "df.drop(cust_behavior, axis = 1, inplace = True)"
   ]
  },
  {
   "cell_type": "code",
   "execution_count": 11,
   "id": "0fb18679",
   "metadata": {},
   "outputs": [
    {
     "data": {
      "text/plain": [
       "(39717, 26)"
      ]
     },
     "execution_count": 11,
     "metadata": {},
     "output_type": "execute_result"
    }
   ],
   "source": [
    "df.shape"
   ]
  },
  {
   "cell_type": "code",
   "execution_count": 12,
   "id": "25155408",
   "metadata": {},
   "outputs": [
    {
     "data": {
      "text/plain": [
       "Index(['id', 'member_id', 'loan_amnt', 'funded_amnt', 'funded_amnt_inv',\n",
       "       'term', 'int_rate', 'installment', 'grade', 'sub_grade', 'emp_title',\n",
       "       'emp_length', 'home_ownership', 'annual_inc', 'verification_status',\n",
       "       'issue_d', 'loan_status', 'url', 'desc', 'purpose', 'title', 'zip_code',\n",
       "       'addr_state', 'dti', 'mths_since_last_delinq', 'pub_rec_bankruptcies'],\n",
       "      dtype='object')"
      ]
     },
     "execution_count": 12,
     "metadata": {},
     "output_type": "execute_result"
    }
   ],
   "source": [
    "df.columns"
   ]
  },
  {
   "cell_type": "markdown",
   "id": "de29dbc8",
   "metadata": {},
   "source": [
    "### The columns - url, desc, zip_code, addr_state and emp_title are free text columns and these values cannot be used for any comparison purpose. Deleting these columns"
   ]
  },
  {
   "cell_type": "code",
   "execution_count": 13,
   "id": "dae20f82",
   "metadata": {},
   "outputs": [],
   "source": [
    "df.drop(['url','desc','zip_code', 'addr_state'], axis = 1, inplace = True)"
   ]
  },
  {
   "cell_type": "code",
   "execution_count": 14,
   "id": "6aab6f96",
   "metadata": {},
   "outputs": [],
   "source": [
    "df.drop(['emp_title'], axis = 1, inplace = True)"
   ]
  },
  {
   "cell_type": "code",
   "execution_count": 15,
   "id": "208bb566",
   "metadata": {},
   "outputs": [
    {
     "data": {
      "text/plain": [
       "(39717, 21)"
      ]
     },
     "execution_count": 15,
     "metadata": {},
     "output_type": "execute_result"
    }
   ],
   "source": [
    "df.shape"
   ]
  },
  {
   "cell_type": "markdown",
   "id": "2b6dc99f",
   "metadata": {},
   "source": [
    "### The columns id and member_id are unique value identity columns just to identity the customer. We can delete the member_id column as we already have id column"
   ]
  },
  {
   "cell_type": "code",
   "execution_count": 16,
   "id": "0f30346a",
   "metadata": {},
   "outputs": [],
   "source": [
    "df.drop(['member_id'], axis = 1, inplace = True)"
   ]
  },
  {
   "cell_type": "code",
   "execution_count": 17,
   "id": "217b64ea",
   "metadata": {},
   "outputs": [
    {
     "data": {
      "text/plain": [
       "array(['Fully Paid', 'Charged Off', 'Current'], dtype=object)"
      ]
     },
     "execution_count": 17,
     "metadata": {},
     "output_type": "execute_result"
    }
   ],
   "source": [
    "df.loan_status.unique()"
   ]
  },
  {
   "cell_type": "markdown",
   "id": "39a0e642",
   "metadata": {},
   "source": [
    "### The loan_status value 'Current' cannot be considered in the analysis as these customers can either get converted into 'Fully paid' or 'Charged Off'. We need to consider only the values where loan_status is not 'Current'"
   ]
  },
  {
   "cell_type": "code",
   "execution_count": 18,
   "id": "d3f09b31",
   "metadata": {},
   "outputs": [],
   "source": [
    "#Removing current loan status rows\n",
    "df = df[df.loan_status != 'Current']"
   ]
  },
  {
   "cell_type": "code",
   "execution_count": 19,
   "id": "49bac24f",
   "metadata": {},
   "outputs": [
    {
     "data": {
      "text/plain": [
       "(38577, 20)"
      ]
     },
     "execution_count": 19,
     "metadata": {},
     "output_type": "execute_result"
    }
   ],
   "source": [
    "df.shape"
   ]
  },
  {
   "cell_type": "markdown",
   "id": "9d567f7e",
   "metadata": {},
   "source": [
    "### Now check the column types if any type conversion is needed to as to be used in Univariat and bivariat analyses"
   ]
  },
  {
   "cell_type": "code",
   "execution_count": 20,
   "id": "bc2729c1",
   "metadata": {},
   "outputs": [
    {
     "data": {
      "text/plain": [
       "id                          int64\n",
       "loan_amnt                   int64\n",
       "funded_amnt                 int64\n",
       "funded_amnt_inv           float64\n",
       "term                       object\n",
       "int_rate                   object\n",
       "installment               float64\n",
       "grade                      object\n",
       "sub_grade                  object\n",
       "emp_length                 object\n",
       "home_ownership             object\n",
       "annual_inc                float64\n",
       "verification_status        object\n",
       "issue_d                    object\n",
       "loan_status                object\n",
       "purpose                    object\n",
       "title                      object\n",
       "dti                       float64\n",
       "mths_since_last_delinq    float64\n",
       "pub_rec_bankruptcies      float64\n",
       "dtype: object"
      ]
     },
     "execution_count": 20,
     "metadata": {},
     "output_type": "execute_result"
    }
   ],
   "source": [
    "df.dtypes"
   ]
  },
  {
   "cell_type": "markdown",
   "id": "f3e1c489",
   "metadata": {},
   "source": [
    "### There are many columns which shouldnt have been inferred as Object datatype. Need to analyse these columns if there are any extra characters/junk values which are not letting the columns to be type casted to float64. Clean the data and change it to meaningful datatype"
   ]
  },
  {
   "cell_type": "code",
   "execution_count": 21,
   "id": "991e8e96",
   "metadata": {},
   "outputs": [
    {
     "data": {
      "text/plain": [
       "array([' 36 months', ' 60 months'], dtype=object)"
      ]
     },
     "execution_count": 21,
     "metadata": {},
     "output_type": "execute_result"
    }
   ],
   "source": [
    "df.term.unique()                       "
   ]
  },
  {
   "cell_type": "markdown",
   "id": "80ccac3f",
   "metadata": {},
   "source": [
    "### The column term has just 2 values so we can leave it as it and we will treat it as a categorical value"
   ]
  },
  {
   "cell_type": "code",
   "execution_count": 22,
   "id": "a40cf554",
   "metadata": {},
   "outputs": [
    {
     "data": {
      "text/plain": [
       "0    10.65%\n",
       "1    15.27%\n",
       "2    15.96%\n",
       "3    13.49%\n",
       "5     7.90%\n",
       "Name: int_rate, dtype: object"
      ]
     },
     "execution_count": 22,
     "metadata": {},
     "output_type": "execute_result"
    }
   ],
   "source": [
    "df.int_rate.head()"
   ]
  },
  {
   "cell_type": "markdown",
   "id": "18b57440",
   "metadata": {},
   "source": [
    "Remove the '%' from the int_rate values and convert into float"
   ]
  },
  {
   "cell_type": "code",
   "execution_count": 23,
   "id": "2fb50839",
   "metadata": {},
   "outputs": [],
   "source": [
    "df.int_rate =  pd.to_numeric(df.int_rate.str.replace('%',''))"
   ]
  },
  {
   "cell_type": "code",
   "execution_count": 24,
   "id": "b959d592",
   "metadata": {},
   "outputs": [
    {
     "data": {
      "text/plain": [
       "0    10.65\n",
       "1    15.27\n",
       "2    15.96\n",
       "3    13.49\n",
       "5     7.90\n",
       "Name: int_rate, dtype: float64"
      ]
     },
     "execution_count": 24,
     "metadata": {},
     "output_type": "execute_result"
    }
   ],
   "source": [
    "df.int_rate.head()"
   ]
  },
  {
   "cell_type": "code",
   "execution_count": 25,
   "id": "6ac3bd26",
   "metadata": {},
   "outputs": [
    {
     "data": {
      "text/plain": [
       "array(['10+ years', '< 1 year', '3 years', '8 years', '9 years',\n",
       "       '4 years', '5 years', '1 year', '6 years', '2 years', '7 years',\n",
       "       nan], dtype=object)"
      ]
     },
     "execution_count": 25,
     "metadata": {},
     "output_type": "execute_result"
    }
   ],
   "source": [
    "df.emp_length.unique()"
   ]
  },
  {
   "cell_type": "code",
   "execution_count": 26,
   "id": "d1c1518c",
   "metadata": {},
   "outputs": [
    {
     "data": {
      "text/plain": [
       "1033"
      ]
     },
     "execution_count": 26,
     "metadata": {},
     "output_type": "execute_result"
    }
   ],
   "source": [
    "df['emp_length'].isna().sum()"
   ]
  },
  {
   "cell_type": "markdown",
   "id": "949058e0",
   "metadata": {},
   "source": [
    "### There are two values i.e. 10+ and < 1 due to which the column cannot be converted to Float. We can treat experience < 1 as 1 (treating as 0 might mean that he is unemployed which is not the case) and 10+ years as 10. Lets do the conversion"
   ]
  },
  {
   "cell_type": "code",
   "execution_count": 27,
   "id": "d167e178",
   "metadata": {},
   "outputs": [],
   "source": [
    "df['emp_length'] = df['emp_length'].str.replace(' years','')"
   ]
  },
  {
   "cell_type": "code",
   "execution_count": 28,
   "id": "c530b80c",
   "metadata": {},
   "outputs": [],
   "source": [
    "df['emp_length'] = df['emp_length'].str.replace(' year','')"
   ]
  },
  {
   "cell_type": "code",
   "execution_count": 29,
   "id": "e899e8f8",
   "metadata": {},
   "outputs": [],
   "source": [
    "df['emp_length'] = df['emp_length'].str.replace('< ','')"
   ]
  },
  {
   "cell_type": "code",
   "execution_count": 30,
   "id": "c7720b6f",
   "metadata": {},
   "outputs": [],
   "source": [
    "df['emp_length'] = pd.to_numeric(df['emp_length'].str.replace('+',''))"
   ]
  },
  {
   "cell_type": "code",
   "execution_count": 31,
   "id": "15d1f688",
   "metadata": {},
   "outputs": [],
   "source": [
    "df['emp_length'].fillna(\"0\",inplace=True)"
   ]
  },
  {
   "cell_type": "markdown",
   "id": "6cf97d5c",
   "metadata": {},
   "source": [
    "### Need to delete column pub_rec_bankruptcies as this is also customer behavior attribute"
   ]
  },
  {
   "cell_type": "code",
   "execution_count": 32,
   "id": "969fec98",
   "metadata": {},
   "outputs": [],
   "source": [
    "del df['mths_since_last_delinq']"
   ]
  },
  {
   "cell_type": "code",
   "execution_count": 33,
   "id": "f93bbbb6",
   "metadata": {},
   "outputs": [
    {
     "data": {
      "text/plain": [
       "array([ 0.,  1.,  2., nan])"
      ]
     },
     "execution_count": 33,
     "metadata": {},
     "output_type": "execute_result"
    }
   ],
   "source": [
    "df['pub_rec_bankruptcies'].unique()"
   ]
  },
  {
   "cell_type": "code",
   "execution_count": 34,
   "id": "678fe3d3",
   "metadata": {},
   "outputs": [],
   "source": [
    "# fill pub_rec_bankruptcies na wil 0\n",
    "df['pub_rec_bankruptcies'].fillna(\"0\",inplace=True)"
   ]
  },
  {
   "cell_type": "code",
   "execution_count": 35,
   "id": "95286b60",
   "metadata": {},
   "outputs": [],
   "source": [
    "# deleting title columns as this is a free flow text column and doesnt provides any meaningful insight\n",
    "del df['title']"
   ]
  },
  {
   "cell_type": "markdown",
   "id": "41def57c",
   "metadata": {},
   "source": [
    "### Derived columns - issue_month out of issue_d. Year will not be meaningful for our anaysis as it is not going to be repeated in future, only the pattern related months can add values"
   ]
  },
  {
   "cell_type": "code",
   "execution_count": 36,
   "id": "7e84c111",
   "metadata": {},
   "outputs": [],
   "source": [
    "df['issue_month'] = df['issue_d'].str.split('-').apply(lambda x: x[0])"
   ]
  },
  {
   "cell_type": "code",
   "execution_count": 37,
   "id": "51969384",
   "metadata": {},
   "outputs": [],
   "source": [
    "#delete the issue_d column as we dont need it any further\n",
    "del df['issue_d']"
   ]
  },
  {
   "cell_type": "markdown",
   "id": "07bd5ab7",
   "metadata": {},
   "source": [
    "### bucketing columns into categorical and continuous types - columns having less unique value count is categorical and others are continuous"
   ]
  },
  {
   "cell_type": "code",
   "execution_count": 38,
   "id": "09407089",
   "metadata": {},
   "outputs": [
    {
     "name": "stdout",
     "output_type": "stream",
     "text": [
      "id   38577\n",
      "loan_amnt   870\n",
      "funded_amnt   1019\n",
      "funded_amnt_inv   8050\n",
      "term   2\n",
      "int_rate   370\n",
      "installment   15022\n",
      "grade   7\n",
      "sub_grade   35\n",
      "emp_length   11\n",
      "home_ownership   5\n",
      "annual_inc   5215\n",
      "verification_status   3\n",
      "loan_status   2\n",
      "purpose   14\n",
      "dti   2853\n",
      "pub_rec_bankruptcies   4\n",
      "issue_month   12\n"
     ]
    }
   ],
   "source": [
    "for column in df:\n",
    "    print(column, ' ', len(df[column].unique()))\n"
   ]
  },
  {
   "cell_type": "code",
   "execution_count": 39,
   "id": "03247e76",
   "metadata": {},
   "outputs": [],
   "source": [
    "categorical_columns = ['term', 'grade', 'sub_grade', 'emp_length', 'home_ownership', 'verification_status', 'loan_status', 'purpose', 'pub_rec_bankruptcies', 'issue_month']"
   ]
  },
  {
   "cell_type": "code",
   "execution_count": 40,
   "id": "07000145",
   "metadata": {},
   "outputs": [],
   "source": [
    "continuous_columns = ['loan_amnt', 'funded_amnt', 'funded_amnt_inv', 'int_rate', 'installment', 'annual_inc', ]"
   ]
  },
  {
   "cell_type": "markdown",
   "id": "8d37be9c",
   "metadata": {},
   "source": [
    "### Plot categorical columns to see their distribution"
   ]
  },
  {
   "cell_type": "code",
   "execution_count": 41,
   "id": "72772852",
   "metadata": {},
   "outputs": [
    {
     "name": "stdout",
     "output_type": "stream",
     "text": [
      "------------- term ------------------------\n"
     ]
    },
    {
     "name": "stderr",
     "output_type": "stream",
     "text": [
      "C:\\Users\\GBhardwaj02\\Anaconda3\\envs\\myenv\\lib\\site-packages\\seaborn\\_decorators.py:43: FutureWarning: Pass the following variable as a keyword arg: x. From version 0.12, the only valid positional argument will be `data`, and passing other arguments without an explicit keyword will result in an error or misinterpretation.\n",
      "  FutureWarning\n"
     ]
    },
    {
     "data": {
      "image/png": "[encoded data removed]",
      "text/plain": [
       "<Figure size 432x288 with 1 Axes>"
      ]
     },
     "metadata": {
      "needs_background": "light"
     },
     "output_type": "display_data"
    },
    {
     "name": "stdout",
     "output_type": "stream",
     "text": [
      "------------- grade ------------------------\n"
     ]
    },
    {
     "name": "stderr",
     "output_type": "stream",
     "text": [
      "C:\\Users\\GBhardwaj02\\Anaconda3\\envs\\myenv\\lib\\site-packages\\seaborn\\_decorators.py:43: FutureWarning: Pass the following variable as a keyword arg: x. From version 0.12, the only valid positional argument will be `data`, and passing other arguments without an explicit keyword will result in an error or misinterpretation.\n",
      "  FutureWarning\n"
     ]
    },
    {
     "data": {
      "image/png": "[encoded data removed]",
      "text/plain": [
       "<Figure size 432x288 with 1 Axes>"
      ]
     },
     "metadata": {
      "needs_background": "light"
     },
     "output_type": "display_data"
    },
    {
     "name": "stdout",
     "output_type": "stream",
     "text": [
      "------------- sub_grade ------------------------\n"
     ]
    },
    {
     "name": "stderr",
     "output_type": "stream",
     "text": [
      "C:\\Users\\GBhardwaj02\\Anaconda3\\envs\\myenv\\lib\\site-packages\\seaborn\\_decorators.py:43: FutureWarning: Pass the following variable as a keyword arg: x. From version 0.12, the only valid positional argument will be `data`, and passing other arguments without an explicit keyword will result in an error or misinterpretation.\n",
      "  FutureWarning\n"
     ]
    },
    {
     "data": {
      "image/png": "[encoded data removed]",
      "text/plain": [
       "<Figure size 432x288 with 1 Axes>"
      ]
     },
     "metadata": {
      "needs_background": "light"
     },
     "output_type": "display_data"
    },
    {
     "name": "stdout",
     "output_type": "stream",
     "text": [
      "------------- emp_length ------------------------\n"
     ]
    },
    {
     "name": "stderr",
     "output_type": "stream",
     "text": [
      "C:\\Users\\GBhardwaj02\\Anaconda3\\envs\\myenv\\lib\\site-packages\\seaborn\\_decorators.py:43: FutureWarning: Pass the following variable as a keyword arg: x. From version 0.12, the only valid positional argument will be `data`, and passing other arguments without an explicit keyword will result in an error or misinterpretation.\n",
      "  FutureWarning\n"
     ]
    },
    {
     "data": {
      "image/png": "[encoded data removed]",
      "text/plain": [
       "<Figure size 432x288 with 1 Axes>"
      ]
     },
     "metadata": {
      "needs_background": "light"
     },
     "output_type": "display_data"
    },
    {
     "name": "stdout",
     "output_type": "stream",
     "text": [
      "------------- home_ownership ------------------------\n"
     ]
    },
    {
     "name": "stderr",
     "output_type": "stream",
     "text": [
      "C:\\Users\\GBhardwaj02\\Anaconda3\\envs\\myenv\\lib\\site-packages\\seaborn\\_decorators.py:43: FutureWarning: Pass the following variable as a keyword arg: x. From version 0.12, the only valid positional argument will be `data`, and passing other arguments without an explicit keyword will result in an error or misinterpretation.\n",
      "  FutureWarning\n"
     ]
    },
    {
     "data": {
      "image/png": "[encoded data removed]",
      "text/plain": [
       "<Figure size 432x288 with 1 Axes>"
      ]
     },
     "metadata": {
      "needs_background": "light"
     },
     "output_type": "display_data"
    },
    {
     "name": "stdout",
     "output_type": "stream",
     "text": [
      "------------- verification_status ------------------------\n"
     ]
    },
    {
     "name": "stderr",
     "output_type": "stream",
     "text": [
      "C:\\Users\\GBhardwaj02\\Anaconda3\\envs\\myenv\\lib\\site-packages\\seaborn\\_decorators.py:43: FutureWarning: Pass the following variable as a keyword arg: x. From version 0.12, the only valid positional argument will be `data`, and passing other arguments without an explicit keyword will result in an error or misinterpretation.\n",
      "  FutureWarning\n"
     ]
    },
    {
     "data": {
      "image/png": "[encoded data removed]",
      "text/plain": [
       "<Figure size 432x288 with 1 Axes>"
      ]
     },
     "metadata": {
      "needs_background": "light"
     },
     "output_type": "display_data"
    },
    {
     "name": "stdout",
     "output_type": "stream",
     "text": [
      "------------- loan_status ------------------------\n"
     ]
    },
    {
     "name": "stderr",
     "output_type": "stream",
     "text": [
      "C:\\Users\\GBhardwaj02\\Anaconda3\\envs\\myenv\\lib\\site-packages\\seaborn\\_decorators.py:43: FutureWarning: Pass the following variable as a keyword arg: x. From version 0.12, the only valid positional argument will be `data`, and passing other arguments without an explicit keyword will result in an error or misinterpretation.\n",
      "  FutureWarning\n"
     ]
    },
    {
     "data": {
      "image/png": "[encoded data removed]",
      "text/plain": [
       "<Figure size 432x288 with 1 Axes>"
      ]
     },
     "metadata": {
      "needs_background": "light"
     },
     "output_type": "display_data"
    },
    {
     "name": "stderr",
     "output_type": "stream",
     "text": [
      "C:\\Users\\GBhardwaj02\\Anaconda3\\envs\\myenv\\lib\\site-packages\\seaborn\\_decorators.py:43: FutureWarning: Pass the following variable as a keyword arg: x. From version 0.12, the only valid positional argument will be `data`, and passing other arguments without an explicit keyword will result in an error or misinterpretation.\n",
      "  FutureWarning\n"
     ]
    },
    {
     "name": "stdout",
     "output_type": "stream",
     "text": [
      "------------- purpose ------------------------\n"
     ]
    },
    {
     "data": {
      "image/png": "[encoded data removed]",
      "text/plain": [
       "<Figure size 432x288 with 1 Axes>"
      ]
     },
     "metadata": {
      "needs_background": "light"
     },
     "output_type": "display_data"
    },
    {
     "name": "stderr",
     "output_type": "stream",
     "text": [
      "C:\\Users\\GBhardwaj02\\Anaconda3\\envs\\myenv\\lib\\site-packages\\seaborn\\_decorators.py:43: FutureWarning: Pass the following variable as a keyword arg: x. From version 0.12, the only valid positional argument will be `data`, and passing other arguments without an explicit keyword will result in an error or misinterpretation.\n",
      "  FutureWarning\n"
     ]
    },
    {
     "name": "stdout",
     "output_type": "stream",
     "text": [
      "------------- pub_rec_bankruptcies ------------------------\n"
     ]
    },
    {
     "data": {
      "image/png": "[encoded data removed]",
      "text/plain": [
       "<Figure size 432x288 with 1 Axes>"
      ]
     },
     "metadata": {
      "needs_background": "light"
     },
     "output_type": "display_data"
    },
    {
     "name": "stdout",
     "output_type": "stream",
     "text": [
      "------------- issue_month ------------------------\n"
     ]
    },
    {
     "name": "stderr",
     "output_type": "stream",
     "text": [
      "C:\\Users\\GBhardwaj02\\Anaconda3\\envs\\myenv\\lib\\site-packages\\seaborn\\_decorators.py:43: FutureWarning: Pass the following variable as a keyword arg: x. From version 0.12, the only valid positional argument will be `data`, and passing other arguments without an explicit keyword will result in an error or misinterpretation.\n",
      "  FutureWarning\n"
     ]
    },
    {
     "data": {
      "image/png": "[encoded data removed]",
      "text/plain": [
       "<Figure size 432x288 with 1 Axes>"
      ]
     },
     "metadata": {
      "needs_background": "light"
     },
     "output_type": "display_data"
    }
   ],
   "source": [
    "for i in categorical_columns:\n",
    "    print(\"-------------\", i, \"------------------------\")\n",
    "    sns.countplot(df[i])\n",
    "    plt.show()"
   ]
  },
  {
   "cell_type": "markdown",
   "id": "8c5ea685",
   "metadata": {},
   "source": [
    "## Removing outliers from continuous variable before Univariat analysis"
   ]
  },
  {
   "cell_type": "markdown",
   "id": "7bbf6b54",
   "metadata": {},
   "source": [
    "#### box plot continuous variables to analyze outliers"
   ]
  },
  {
   "cell_type": "code",
   "execution_count": 42,
   "id": "d4e1cd0f",
   "metadata": {},
   "outputs": [
    {
     "name": "stdout",
     "output_type": "stream",
     "text": [
      "------------- loan_amnt ------------------------\n"
     ]
    },
    {
     "name": "stderr",
     "output_type": "stream",
     "text": [
      "C:\\Users\\GBhardwaj02\\Anaconda3\\envs\\myenv\\lib\\site-packages\\seaborn\\_decorators.py:43: FutureWarning: Pass the following variable as a keyword arg: x. From version 0.12, the only valid positional argument will be `data`, and passing other arguments without an explicit keyword will result in an error or misinterpretation.\n",
      "  FutureWarning\n"
     ]
    },
    {
     "data": {
      "image/png": "[encoded data removed]",
      "text/plain": [
       "<Figure size 432x288 with 1 Axes>"
      ]
     },
     "metadata": {
      "needs_background": "light"
     },
     "output_type": "display_data"
    },
    {
     "name": "stdout",
     "output_type": "stream",
     "text": [
      "------------- funded_amnt ------------------------\n"
     ]
    },
    {
     "name": "stderr",
     "output_type": "stream",
     "text": [
      "C:\\Users\\GBhardwaj02\\Anaconda3\\envs\\myenv\\lib\\site-packages\\seaborn\\_decorators.py:43: FutureWarning: Pass the following variable as a keyword arg: x. From version 0.12, the only valid positional argument will be `data`, and passing other arguments without an explicit keyword will result in an error or misinterpretation.\n",
      "  FutureWarning\n"
     ]
    },
    {
     "data": {
      "image/png": "[encoded data removed]",
      "text/plain": [
       "<Figure size 432x288 with 1 Axes>"
      ]
     },
     "metadata": {
      "needs_background": "light"
     },
     "output_type": "display_data"
    },
    {
     "name": "stdout",
     "output_type": "stream",
     "text": [
      "------------- funded_amnt_inv ------------------------\n"
     ]
    },
    {
     "name": "stderr",
     "output_type": "stream",
     "text": [
      "C:\\Users\\GBhardwaj02\\Anaconda3\\envs\\myenv\\lib\\site-packages\\seaborn\\_decorators.py:43: FutureWarning: Pass the following variable as a keyword arg: x. From version 0.12, the only valid positional argument will be `data`, and passing other arguments without an explicit keyword will result in an error or misinterpretation.\n",
      "  FutureWarning\n"
     ]
    },
    {
     "data": {
      "image/png": "[encoded data removed]",
      "text/plain": [
       "<Figure size 432x288 with 1 Axes>"
      ]
     },
     "metadata": {
      "needs_background": "light"
     },
     "output_type": "display_data"
    },
    {
     "name": "stdout",
     "output_type": "stream",
     "text": [
      "------------- int_rate ------------------------\n"
     ]
    },
    {
     "name": "stderr",
     "output_type": "stream",
     "text": [
      "C:\\Users\\GBhardwaj02\\Anaconda3\\envs\\myenv\\lib\\site-packages\\seaborn\\_decorators.py:43: FutureWarning: Pass the following variable as a keyword arg: x. From version 0.12, the only valid positional argument will be `data`, and passing other arguments without an explicit keyword will result in an error or misinterpretation.\n",
      "  FutureWarning\n"
     ]
    },
    {
     "data": {
      "image/png": "[encoded data removed]",
      "text/plain": [
       "<Figure size 432x288 with 1 Axes>"
      ]
     },
     "metadata": {
      "needs_background": "light"
     },
     "output_type": "display_data"
    },
    {
     "name": "stderr",
     "output_type": "stream",
     "text": [
      "C:\\Users\\GBhardwaj02\\Anaconda3\\envs\\myenv\\lib\\site-packages\\seaborn\\_decorators.py:43: FutureWarning: Pass the following variable as a keyword arg: x. From version 0.12, the only valid positional argument will be `data`, and passing other arguments without an explicit keyword will result in an error or misinterpretation.\n",
      "  FutureWarning\n"
     ]
    },
    {
     "name": "stdout",
     "output_type": "stream",
     "text": [
      "------------- installment ------------------------\n"
     ]
    },
    {
     "data": {
      "image/png": "[encoded data removed]",
      "text/plain": [
       "<Figure size 432x288 with 1 Axes>"
      ]
     },
     "metadata": {
      "needs_background": "light"
     },
     "output_type": "display_data"
    },
    {
     "name": "stderr",
     "output_type": "stream",
     "text": [
      "C:\\Users\\GBhardwaj02\\Anaconda3\\envs\\myenv\\lib\\site-packages\\seaborn\\_decorators.py:43: FutureWarning: Pass the following variable as a keyword arg: x. From version 0.12, the only valid positional argument will be `data`, and passing other arguments without an explicit keyword will result in an error or misinterpretation.\n",
      "  FutureWarning\n"
     ]
    },
    {
     "name": "stdout",
     "output_type": "stream",
     "text": [
      "------------- annual_inc ------------------------\n"
     ]
    },
    {
     "data": {
      "image/png": "[encoded data removed]",
      "text/plain": [
       "<Figure size 432x288 with 1 Axes>"
      ]
     },
     "metadata": {
      "needs_background": "light"
     },
     "output_type": "display_data"
    }
   ],
   "source": [
    "for i in continuous_columns:\n",
    "    print(\"-------------\", i, \"------------------------\")\n",
    "    sns.boxplot(df[i])\n",
    "    plt.show()"
   ]
  },
  {
   "cell_type": "code",
   "execution_count": 43,
   "id": "6102240a",
   "metadata": {},
   "outputs": [],
   "source": [
    "annual_inc_outlier = 350000"
   ]
  },
  {
   "cell_type": "code",
   "execution_count": 44,
   "id": "0754c47c",
   "metadata": {},
   "outputs": [
    {
     "name": "stderr",
     "output_type": "stream",
     "text": [
      "C:\\Users\\GBhardwaj02\\Anaconda3\\envs\\myenv\\lib\\site-packages\\seaborn\\_decorators.py:43: FutureWarning: Pass the following variable as a keyword arg: x. From version 0.12, the only valid positional argument will be `data`, and passing other arguments without an explicit keyword will result in an error or misinterpretation.\n",
      "  FutureWarning\n"
     ]
    },
    {
     "data": {
      "text/plain": [
       "<AxesSubplot:xlabel='annual_inc'>"
      ]
     },
     "execution_count": 44,
     "metadata": {},
     "output_type": "execute_result"
    },
    {
     "data": {
      "image/png": "[encoded data removed]",
      "text/plain": [
       "<Figure size 432x288 with 1 Axes>"
      ]
     },
     "metadata": {
      "needs_background": "light"
     },
     "output_type": "display_data"
    }
   ],
   "source": [
    "df_new = df[(df['annual_inc'] < 350000)]\n",
    "sns.boxplot(df_new['annual_inc'])"
   ]
  },
  {
   "cell_type": "code",
   "execution_count": 50,
   "id": "f5b0cf52",
   "metadata": {},
   "outputs": [
    {
     "data": {
      "image/png": "[encoded data removed]",
      "text/plain": [
       "<Figure size 432x288 with 1 Axes>"
      ]
     },
     "metadata": {
      "needs_background": "light"
     },
     "output_type": "display_data"
    }
   ],
   "source": [
    "new_df = df[df['loan_amnt'] < 28000] # considering 28000 as the outlier threshold by looking at the boxplot above\n",
    "sns.countplot(x='loan_amnt',hue='loan_status',data=new_df)\n",
    "plt.show()#display"
   ]
  },
  {
   "cell_type": "markdown",
   "id": "dc410012",
   "metadata": {},
   "source": [
    "### the above plot doesnt gives us much information, so lets bucketize the loan amount to have a clear picture"
   ]
  },
  {
   "cell_type": "code",
   "execution_count": 52,
   "id": "7b296063",
   "metadata": {},
   "outputs": [],
   "source": [
    "loan_amoun_bin=[0, 2000, 4000, 6000, 8000, 10000, 12000, 14000, 16000, 18000, 20000, 28000]\n",
    "loan_amoun_slot=['0-2000','2000-4000','4000-6000','6000-8000','8000-10000','10000-12000','12000-14000','14000-16000','16000-18000','18000-20000','20000-28000' '28000 and above']\n",
    "df['loan_amnt_range']=pd.cut(df['loan_amnt'], loan_amoun_bin, labels=loan_amoun_slot)"
   ]
  },
  {
   "cell_type": "code",
   "execution_count": 55,
   "id": "e652f271",
   "metadata": {},
   "outputs": [
    {
     "data": {
      "image/png": "[encoded data removed]",
      "text/plain": [
       "<Figure size 1080x432 with 1 Axes>"
      ]
     },
     "metadata": {},
     "output_type": "display_data"
    }
   ],
   "source": [
    "sns.set(rc = {'figure.figsize':(15,6)})\n",
    "sns.countplot(x='loan_amnt_range',hue='loan_status',data=df)\n",
    "plt.show()#displa"
   ]
  },
  {
   "cell_type": "code",
   "execution_count": 46,
   "id": "b2c48e94",
   "metadata": {},
   "outputs": [
    {
     "data": {
      "image/png": "[encoded data removed]",
      "text/plain": [
       "<Figure size 432x288 with 1 Axes>"
      ]
     },
     "metadata": {
      "needs_background": "light"
     },
     "output_type": "display_data"
    }
   ],
   "source": [
    "sns.countplot(x='term',hue='loan_status',data=df)\n",
    "plt.show()\n"
   ]
  },
  {
   "cell_type": "code",
   "execution_count": 56,
   "id": "94b56cbe",
   "metadata": {},
   "outputs": [
    {
     "data": {
      "text/plain": [
       "<function dir>"
      ]
     },
     "execution_count": 56,
     "metadata": {},
     "output_type": "execute_result"
    }
   ],
   "source": [
    "dir"
   ]
  },
  {
   "cell_type": "code",
   "execution_count": null,
   "id": "3a97d23a",
   "metadata": {},
   "outputs": [],
   "source": []
  }
 ],
 "metadata": {
  "kernelspec": {
   "display_name": "Python 3",
   "language": "python",
   "name": "python3"
  },
  "language_info": {
   "codemirror_mode": {
    "name": "ipython",
    "version": 3
   },
   "file_extension": ".py",
   "mimetype": "text/x-python",
   "name": "python",
   "nbconvert_exporter": "python",
   "pygments_lexer": "ipython3",
   "version": "3.7.3"
  }
 },
 "nbformat": 4,
 "nbformat_minor": 5
}
